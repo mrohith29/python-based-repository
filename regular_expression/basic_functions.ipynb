{
 "cells": [
  {
   "cell_type": "code",
   "execution_count": 2,
   "metadata": {},
   "outputs": [],
   "source": [
    "# Regular Expressions in python are used to check specisl charecters in the string and to find sequence of characters that form a search pattern. \n",
    "# To access the function in regular expressions we need to import it. \n",
    "# It is named as re in python.\n",
    "import re # which means Regular Expressions."
   ]
  },
  {
   "cell_type": "code",
   "execution_count": 1,
   "metadata": {},
   "outputs": [],
   "source": [
    "# The functions in the \"re\" module are \n",
    "# findall\n",
    "# search\n",
    "# split\n",
    "# sub"
   ]
  },
  {
   "cell_type": "code",
   "execution_count": 2,
   "metadata": {},
   "outputs": [],
   "source": [
    "# Before getting starting with the functions, let us understand about \"Mertacharacters\".capitalize\n",
    "# Metacharacters are the characters with a special meaning."
   ]
  },
  {
   "cell_type": "code",
   "execution_count": 6,
   "metadata": {},
   "outputs": [
    {
     "name": "stdout",
     "output_type": "stream",
     "text": [
      "False\n",
      "<re.Match object; span=(7, 8), match='A'>\n",
      "['m', 'a', 'r', 'i', 'y', 'a', 'l', 'r', 'o', 'h', 'i', 't', 'h']\n"
     ]
    }
   ],
   "source": [
    "# '[]' <-> This indicates the set of characters.\n",
    "# for example\n",
    "name = 'mariyalA rohith'\n",
    "if re.search('[b-c]', name): #this will return true if name contains letters which are in the range provided in the first agrgument else it will return false.\n",
    "    print(True)\n",
    "else:\n",
    "    print(False)\n",
    "print(re.search('[A-Z]', name))  \n",
    "print(re.findall('[a-z]', name)) #This will find all the occurances of the condition in the first argument of the function.\n"
   ]
  },
  {
   "cell_type": "code",
   "execution_count": 15,
   "metadata": {},
   "outputs": [
    {
     "name": "stdout",
     "output_type": "stream",
     "text": [
      "['1', '2', '2', '3', '2', '9']\n"
     ]
    }
   ],
   "source": [
    "# '\\' is used to find numbers in a string charecters.\n",
    "\n",
    "special_string = 'mariyala % v# 1 2 2 3rohith 29'\n",
    "print(re.findall(\"\\d\",special_string))"
   ]
  },
  {
   "cell_type": "code",
   "execution_count": 43,
   "metadata": {},
   "outputs": [
    {
     "name": "stdout",
     "output_type": "stream",
     "text": [
      "['plant']\n"
     ]
    }
   ],
   "source": [
    "# \"..\" this charecter is used to search a sequence that starts with \"he\", followed by two (any) characters, and an \"o\":\n",
    "txt = 'plant'\n",
    "print(re.findall(\"pl..t\", txt))"
   ]
  },
  {
   "cell_type": "code",
   "execution_count": 66,
   "metadata": {},
   "outputs": [
    {
     "name": "stdout",
     "output_type": "stream",
     "text": [
      "True\n"
     ]
    }
   ],
   "source": [
    "# \"^(any charecter)\" will check wether the the starting character of the string is same as the specified one or not!!.\n",
    "txt = \"mzmrohithmariyala rohith\"\n",
    "# print(re.findall(\"^rohith\", txt))\n",
    "if(re.findall(\"^(m)\", txt)):\n",
    "    print(True)\n",
    "else:\n",
    "    print(False)"
   ]
  },
  {
   "cell_type": "code",
   "execution_count": 17,
   "metadata": {},
   "outputs": [
    {
     "name": "stdout",
     "output_type": "stream",
     "text": [
      "False\n",
      "True\n"
     ]
    }
   ],
   "source": [
    "# \"(any character)$\" any specified character ending with \"$\" symbol will check wether the text is tending with the given character or not i.e., checks the terminating charecter.\n",
    "txt = 'mariyala rohith'\n",
    "print(bool(re.findall('a$',txt)))\n",
    "print(bool(re.findall('h$', txt)))"
   ]
  },
  {
   "cell_type": "code",
   "execution_count": 36,
   "metadata": {},
   "outputs": [
    {
     "name": "stdout",
     "output_type": "stream",
     "text": [
      "True\n"
     ]
    }
   ],
   "source": [
    "# '((starting character).*(ending character))' this format will search for the sequence that starts with 'startinf character', followed by 0 or more (any) characters, and an 'ending character'\n",
    "txt = 'mariyala rohith'\n",
    "print(bool(re.findall('m.*a', txt)))"
   ]
  },
  {
   "cell_type": "code",
   "execution_count": 6,
   "metadata": {},
   "outputs": [
    {
     "name": "stdout",
     "output_type": "stream",
     "text": [
      "['hello']\n"
     ]
    }
   ],
   "source": [
    "# ((first charecter).+(terminating character)) this format is used to print the series with the starting character as the first character and the terminating character as the last digit.\n",
    "# There should be atleast one character between the starting and the terminating character.\n",
    "txt = ['hello']\n",
    "print(re.findall('he.+o', txt[0]))"
   ]
  },
  {
   "cell_type": "code",
   "execution_count": 4,
   "metadata": {},
   "outputs": [
    {
     "name": "stdout",
     "output_type": "stream",
     "text": [
      "[]\n",
      "['7', '0']\n"
     ]
    }
   ],
   "source": [
    "a = re.compile('[0-9]')\n",
    "print(re.findall(\"hello \", \"hello\", 1))\n",
    "print(a.findall('Kohli has more than 70 centuries'))"
   ]
  },
  {
   "cell_type": "code",
   "execution_count": 5,
   "metadata": {},
   "outputs": [
    {
     "name": "stdout",
     "output_type": "stream",
     "text": [
      "['This']\n"
     ]
    }
   ],
   "source": [
    "# '\\A' this will check wether the specified characters are at the beginning of the string.\n",
    "txt = 'This is rubbish'\n",
    "print(re.findall('\\AThis', txt))"
   ]
  },
  {
   "cell_type": "code",
   "execution_count": 12,
   "metadata": {},
   "outputs": [
    {
     "name": "stdout",
     "output_type": "stream",
     "text": [
      "<re.Match object; span=(1, 2), match=' '>\n",
      "1\n"
     ]
    }
   ],
   "source": [
    "# This will print the index of the space.\n",
    "# The search() function searches the string for a match, and returns a match object if there is a match.\n",
    "txt = 'i am a gentle men'\n",
    "print((re.search('\\s',txt)))\n",
    "x = re.search('\\s',txt)\n",
    "print(x.start())\n",
    "# If no match is fount then it will return 'None'"
   ]
  },
  {
   "cell_type": "code",
   "execution_count": 22,
   "metadata": {},
   "outputs": [
    {
     "name": "stdout",
     "output_type": "stream",
     "text": [
      "['th', 'r', ' ar', ' f', 'w spac', 's in this s', 'nt', 'nc', '']\n",
      "['th', 're are few spaces in this sentence']\n"
     ]
    }
   ],
   "source": [
    "# The split() function returns a list where the string has been split at each match\n",
    "txt = 'there are few spaces in this sentence'\n",
    "print(re.split('e', txt))\n",
    "print(re.split('e', txt, 1))"
   ]
  },
  {
   "cell_type": "code",
   "execution_count": 24,
   "metadata": {},
   "outputs": [
    {
     "name": "stdout",
     "output_type": "stream",
     "text": [
      "thi0 i0 a 0ample line of text\n",
      "this✌️is✌️a✌️sample✌️line✌️of✌️text\n"
     ]
    }
   ],
   "source": [
    "# The sub() function will substitute the specified value at the specified space.\n",
    "txt = 'this is a sample line of text'\n",
    "print(re.sub('s', '0', txt))\n",
    "print(re.sub('\\s', '✌️', txt))\n"
   ]
  },
  {
   "cell_type": "code",
   "execution_count": null,
   "metadata": {},
   "outputs": [],
   "source": [
    "# A Match Object is an object containing information anout the search and the result.txt\n",
    "\"\"\"\n",
    "There are three main properties or methods used to retrieve information about the search, and the result:\n",
    "They are:\n",
    ".span() -> it returns the tuple containing the start, and end position of the match.\n",
    ".string() ->returns the string passed into the function.\n",
    ".group() -> returns the part of the string where there was a match.\n",
    "\"\"\"  "
   ]
  },
  {
   "cell_type": "code",
   "execution_count": 30,
   "metadata": {},
   "outputs": [
    {
     "name": "stdout",
     "output_type": "stream",
     "text": [
      "(12, 17)\n"
     ]
    }
   ],
   "source": [
    "#  .span()\n",
    "# it will return a tuple containing the starting and the end positions of the passed string.\n",
    "txt = 'The rain in Spain'\n",
    "x = re.search('S\\w+', txt)\n",
    "print(x.span())"
   ]
  },
  {
   "cell_type": "code",
   "execution_count": 32,
   "metadata": {},
   "outputs": [
    {
     "name": "stdout",
     "output_type": "stream",
     "text": [
      "let txt be a sample sentence\n"
     ]
    }
   ],
   "source": [
    "# .string()\n",
    "txt = 'let txt be a sample sentence'\n",
    "x = re.search('s', txt)\n",
    "print(x.string)\n",
    "# i.e., it will print the sring which is give as an argument in the search function."
   ]
  },
  {
   "cell_type": "code",
   "execution_count": 37,
   "metadata": {},
   "outputs": [
    {
     "name": "stdout",
     "output_type": "stream",
     "text": [
      "t\n"
     ]
    }
   ],
   "source": [
    "# .group()\n",
    "txt = 'let us take txt as an sample txt'\n",
    "x = re.search('t', txt)\n",
    "print(x.group())"
   ]
  },
  {
   "cell_type": "code",
   "execution_count": null,
   "metadata": {},
   "outputs": [],
   "source": [
    "# In this Match object, it the given string doesn't match then it will return 'None'"
   ]
  }
 ],
 "metadata": {
  "kernelspec": {
   "display_name": "Python 3",
   "language": "python",
   "name": "python3"
  },
  "language_info": {
   "codemirror_mode": {
    "name": "ipython",
    "version": 3
   },
   "file_extension": ".py",
   "mimetype": "text/x-python",
   "name": "python",
   "nbconvert_exporter": "python",
   "pygments_lexer": "ipython3",
   "version": "3.10.9"
  },
  "orig_nbformat": 4
 },
 "nbformat": 4,
 "nbformat_minor": 2
}
