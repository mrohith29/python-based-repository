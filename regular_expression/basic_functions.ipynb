{
 "cells": [
  {
   "cell_type": "code",
   "execution_count": 2,
   "metadata": {},
   "outputs": [],
   "source": [
    "# Regular Expressions in python are used to check specisl charecters in the string and to find sequence of characters that form a search pattern. \n",
    "# To access the function in regular expressions we need to import it. \n",
    "# It is named as re in python.\n",
    "import re # which means Regular Expressions."
   ]
  },
  {
   "cell_type": "code",
   "execution_count": 1,
   "metadata": {},
   "outputs": [],
   "source": [
    "# The functions in the \"re\" module are \n",
    "# findall\n",
    "# search\n",
    "# split\n",
    "# sub"
   ]
  },
  {
   "cell_type": "code",
   "execution_count": 2,
   "metadata": {},
   "outputs": [],
   "source": [
    "# Before getting starting with the functions, let us understand about \"Mertacharacters\".capitalize\n",
    "# Metacharacters are the characters with a special meaning."
   ]
  },
  {
   "cell_type": "code",
   "execution_count": 6,
   "metadata": {},
   "outputs": [
    {
     "name": "stdout",
     "output_type": "stream",
     "text": [
      "False\n",
      "<re.Match object; span=(7, 8), match='A'>\n",
      "['m', 'a', 'r', 'i', 'y', 'a', 'l', 'r', 'o', 'h', 'i', 't', 'h']\n"
     ]
    }
   ],
   "source": [
    "# '[]' <-> This indicates the set of characters.\n",
    "# for example\n",
    "name = 'mariyalA rohith'\n",
    "if re.search('[b-c]', name): #this will return true if name contains letters which are in the range provided in the first agrgument else it will return false.\n",
    "    print(True)\n",
    "else:\n",
    "    print(False)\n",
    "print(re.search('[A-Z]', name))  \n",
    "print(re.findall('[a-z]', name)) #This will find all the occurances of the condition in the first argument of the function.\n"
   ]
  },
  {
   "cell_type": "code",
   "execution_count": 15,
   "metadata": {},
   "outputs": [
    {
     "name": "stdout",
     "output_type": "stream",
     "text": [
      "['1', '2', '2', '3', '2', '9']\n"
     ]
    }
   ],
   "source": [
    "# '\\' is used to find numbers in a string charecters.\n",
    "\n",
    "special_string = 'mariyala % v# 1 2 2 3rohith 29'\n",
    "print(re.findall(\"\\d\",special_string))"
   ]
  },
  {
   "cell_type": "code",
   "execution_count": 43,
   "metadata": {},
   "outputs": [
    {
     "name": "stdout",
     "output_type": "stream",
     "text": [
      "['plant']\n"
     ]
    }
   ],
   "source": [
    "# \"..\" this charecter is used to search a sequence that starts with \"he\", followed by two (any) characters, and an \"o\":\n",
    "txt = 'plant'\n",
    "print(re.findall(\"pl..t\", txt))"
   ]
  },
  {
   "cell_type": "code",
   "execution_count": 66,
   "metadata": {},
   "outputs": [
    {
     "name": "stdout",
     "output_type": "stream",
     "text": [
      "True\n"
     ]
    }
   ],
   "source": [
    "# \"^(any charecter)\" will check wether the the starting character of the string is same as the specified one or not!!.\n",
    "txt = \"mzmrohithmariyala rohith\"\n",
    "# print(re.findall(\"^rohith\", txt))\n",
    "if(re.findall(\"^(m)\", txt)):\n",
    "    print(True)\n",
    "else:\n",
    "    print(False)"
   ]
  },
  {
   "cell_type": "code",
   "execution_count": 17,
   "metadata": {},
   "outputs": [
    {
     "name": "stdout",
     "output_type": "stream",
     "text": [
      "False\n",
      "True\n"
     ]
    }
   ],
   "source": [
    "# \"(any character)$\" any specified character ending with \"$\" symbol will check wether the text is tending with the given character or not i.e., checks the terminating charecter.\n",
    "txt = 'mariyala rohith'\n",
    "print(bool(re.findall('a$',txt)))\n",
    "print(bool(re.findall('h$', txt)))"
   ]
  },
  {
   "cell_type": "code",
   "execution_count": 36,
   "metadata": {},
   "outputs": [
    {
     "name": "stdout",
     "output_type": "stream",
     "text": [
      "True\n"
     ]
    }
   ],
   "source": [
    "# '((starting character).*(ending character))' this format will search for the sequence that starts with 'startinf character', followed by 0 or more (any) characters, and an 'ending character'\n",
    "txt = 'mariyala rohith'\n",
    "print(bool(re.findall('m.*a', txt)))"
   ]
  },
  {
   "cell_type": "code",
   "execution_count": 6,
   "metadata": {},
   "outputs": [
    {
     "name": "stdout",
     "output_type": "stream",
     "text": [
      "['hello']\n"
     ]
    }
   ],
   "source": [
    "# ((first charecter).+(terminating character)) this format is used to print the series with the starting character as the first character and the terminating character as the last digit.\n",
    "# There should be atleast one character between the starting and the terminating character.\n",
    "txt = ['hello']\n",
    "print(re.findall('he.+o', txt[0]))"
   ]
  },
  {
   "cell_type": "code",
   "execution_count": null,
   "metadata": {},
   "outputs": [],
   "source": []
  }
 ],
 "metadata": {
  "kernelspec": {
   "display_name": "Python 3",
   "language": "python",
   "name": "python3"
  },
  "language_info": {
   "codemirror_mode": {
    "name": "ipython",
    "version": 3
   },
   "file_extension": ".py",
   "mimetype": "text/x-python",
   "name": "python",
   "nbconvert_exporter": "python",
   "pygments_lexer": "ipython3",
   "version": "3.10.9"
  },
  "orig_nbformat": 4
 },
 "nbformat": 4,
 "nbformat_minor": 2
}
