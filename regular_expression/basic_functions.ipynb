{
 "cells": [
  {
   "cell_type": "code",
   "execution_count": null,
   "metadata": {},
   "outputs": [],
   "source": [
    "# Regular Expressions in python are used to check specisl charecters in the string and to find sequence of characters that form a search pattern. \n",
    "# To access the function in regular expressions we need to import it. \n",
    "# It is named as re in python.\n",
    "import re # which means Regular Expressions."
   ]
  },
  {
   "cell_type": "code",
   "execution_count": 1,
   "metadata": {},
   "outputs": [],
   "source": [
    "# The functions in the \"re\" module are \n",
    "# findall\n",
    "# search\n",
    "# split\n",
    "# sub"
   ]
  },
  {
   "cell_type": "code",
   "execution_count": 2,
   "metadata": {},
   "outputs": [],
   "source": [
    "# Before getting starting with the functions, let us understand about \"Mertacharacters\".capitalize\n",
    "# Metacharacters are the characters with a special meaning."
   ]
  },
  {
   "cell_type": "code",
   "execution_count": 24,
   "metadata": {},
   "outputs": [
    {
     "name": "stdout",
     "output_type": "stream",
     "text": [
      "False\n",
      "<re.Match object; span=(7, 8), match='A'>\n",
      "['m', 'a', 'r', 'i', 'y', 'a', 'l', 'r', 'o', 'h', 'i', 't', 'h']\n"
     ]
    }
   ],
   "source": [
    "# '[]' <-> This indicates the set of characters.\n",
    "# for example\n",
    "name = 'mariyalA rohith'\n",
    "if re.search('[b-c]', name): #this will return true if name contains letters which are in the range provided in the first agrgument else it will return false.\n",
    "    print(True)\n",
    "else:\n",
    "    print(False)\n",
    "print(re.search('[A-Z]', name))  \n",
    "print(re.findall('[a-z]', name)) #This will find all the occurances of the condition in the first argument of the function.\n"
   ]
  },
  {
   "cell_type": "code",
   "execution_count": null,
   "metadata": {},
   "outputs": [],
   "source": [
    "# "
   ]
  }
 ],
 "metadata": {
  "kernelspec": {
   "display_name": "Python 3",
   "language": "python",
   "name": "python3"
  },
  "language_info": {
   "codemirror_mode": {
    "name": "ipython",
    "version": 3
   },
   "file_extension": ".py",
   "mimetype": "text/x-python",
   "name": "python",
   "nbconvert_exporter": "python",
   "pygments_lexer": "ipython3",
   "version": "3.10.9"
  },
  "orig_nbformat": 4
 },
 "nbformat": 4,
 "nbformat_minor": 2
}
