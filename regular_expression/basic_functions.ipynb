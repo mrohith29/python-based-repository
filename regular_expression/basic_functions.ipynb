{
 "cells": [
  {
   "cell_type": "code",
   "execution_count": null,
   "metadata": {},
   "outputs": [],
   "source": [
    "# Regular Expressions in python are used to check specisl charecters in the string and to find sequence of characters that form a search pattern. \n",
    "# To access the function in regular expressions we need to import it. \n",
    "# It is named as re in python.\n",
    "import re # which means Regular Expressions."
   ]
  },
  {
   "cell_type": "code",
   "execution_count": null,
   "metadata": {},
   "outputs": [],
   "source": [
    "# The fun"
   ]
  }
 ],
 "metadata": {
  "language_info": {
   "name": "python"
  },
  "orig_nbformat": 4
 },
 "nbformat": 4,
 "nbformat_minor": 2
}
