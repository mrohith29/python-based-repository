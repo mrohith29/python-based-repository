{
 "cells": [
  {
   "cell_type": "code",
   "execution_count": 24,
   "metadata": {},
   "outputs": [
    {
     "name": "stdout",
     "output_type": "stream",
     "text": [
      "true\n",
      "rohith mariyala\n",
      "<re.Match object; span=(0, 4), match='pii1'>\n"
     ]
    }
   ],
   "source": [
    "import re\n",
    "# m = re.search('(?<=abc)def','abcdef')\n",
    "a = 'rohith    mariyala'\n",
    "match = re.search(r'mariyala', a)\n",
    "if match:\n",
    "    print('true')\n",
    "    print('rohith', match.group())\n",
    "else:\n",
    "    print('False')\n",
    "\n",
    "print(re.search(r'\\w\\w\\w\\d', 'pii1ign'))"
   ]
  },
  {
   "cell_type": "code",
   "execution_count": null,
   "metadata": {},
   "outputs": [],
   "source": [
    "password = input()\n",
    "if re.search(r'\\w+\\d+')"
   ]
  }
 ],
 "metadata": {
  "kernelspec": {
   "display_name": "Python 3",
   "language": "python",
   "name": "python3"
  },
  "language_info": {
   "codemirror_mode": {
    "name": "ipython",
    "version": 3
   },
   "file_extension": ".py",
   "mimetype": "text/x-python",
   "name": "python",
   "nbconvert_exporter": "python",
   "pygments_lexer": "ipython3",
   "version": "3.10.9"
  },
  "orig_nbformat": 4
 },
 "nbformat": 4,
 "nbformat_minor": 2
}
