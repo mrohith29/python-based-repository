{
 "cells": [
  {
   "cell_type": "code",
   "execution_count": 3,
   "metadata": {},
   "outputs": [],
   "source": [
    "# Numpy module in python also have inbuild functions which perform linear algebra like finding inverse of a matrix, finding eigen values, eigen vectors, determinant, inverse etc..\n",
    "# Let's try them.. \n",
    "import numpy as np"
   ]
  },
  {
   "cell_type": "code",
   "execution_count": 17,
   "metadata": {},
   "outputs": [
    {
     "name": "stdout",
     "output_type": "stream",
     "text": [
      "-2.0\n"
     ]
    }
   ],
   "source": [
    "# lingib.det -> this function in numpy is used to find the determinant of a matix[NxN]\n",
    "arr = np.array([[1, 2], [3, 4]], float)\n",
    "# np.set_printoptions(legacy='1.13')\n",
    "print(np.linalg.det(arr))"
   ]
  },
  {
   "cell_type": "code",
   "execution_count": 32,
   "metadata": {},
   "outputs": [
    {
     "name": "stdout",
     "output_type": "stream",
     "text": [
      "(array([-0.37228132,  5.37228132]), array([[-0.82456484, -0.41597356],\n",
      "       [ 0.56576746, -0.90937671]]))\n",
      "[-0.37228132  5.37228132]\n",
      "[[-0.82456484 -0.41597356]\n",
      " [ 0.56576746 -0.90937671]]\n"
     ]
    }
   ],
   "source": [
    "# linale.eig -> this finction in numpy is used to find the eigen values and eigen vectors of a given square matric.\n",
    "arr = np.array([[1, 2], [3, 4]], float)\n",
    "# arr = np.array([input().split() for _ in range(int(input()))], int)  use this code snippet if you want to enter your oun values. \n",
    "print(np.linalg.eig(arr)) # this will first print eigen values in a list format and a matrix which are its eigen vectors.\n",
    "\n",
    "# if you want to print eigen values and vectors separately then use this code snippet.\n",
    "vals, vecs = np.linalg.eig(arr)\n",
    "print(vals)\n",
    "print(vecs)"
   ]
  },
  {
   "cell_type": "code",
   "execution_count": 29,
   "metadata": {},
   "outputs": [
    {
     "name": "stdout",
     "output_type": "stream",
     "text": [
      "[[-2.   1. ]\n",
      " [ 1.5 -0.5]]\n"
     ]
    }
   ],
   "source": [
    "# linalg.inv -> this function in python is used if the user wants to find the multiplicative inverse of a given matrix.\n",
    "arr = np.array([[1, 2], [3, 4]], float)\n",
    "print(np.linalg.inv(arr))"
   ]
  },
  {
   "cell_type": "code",
   "execution_count": null,
   "metadata": {},
   "outputs": [],
   "source": [
    "'''\n",
    "We can use this module to find decomposition of a matric also like\n",
    "-> cholesky decomposition -> np.linalg.cholesky()\n",
    "-> qr decomposition -> np.linalg.qr()\n",
    "-> svd decomposition -> np.linalg.svd()\n",
    "-> norm of a matrix -> np.linalg.norm()\n",
    "-> trace of a matrix -> np.trace()\n",
    "***-> rank of a matrix -> np.linalg.matrix_rank()\n",
    "''' \n"
   ]
  }
 ],
 "metadata": {
  "kernelspec": {
   "display_name": "Python 3",
   "language": "python",
   "name": "python3"
  },
  "language_info": {
   "codemirror_mode": {
    "name": "ipython",
    "version": 3
   },
   "file_extension": ".py",
   "mimetype": "text/x-python",
   "name": "python",
   "nbconvert_exporter": "python",
   "pygments_lexer": "ipython3",
   "version": "3.10.9"
  },
  "orig_nbformat": 4
 },
 "nbformat": 4,
 "nbformat_minor": 2
}
