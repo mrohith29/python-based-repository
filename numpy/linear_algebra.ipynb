{
 "cells": [
  {
   "cell_type": "code",
   "execution_count": 3,
   "metadata": {},
   "outputs": [],
   "source": [
    "# Numpy module in python also have inbuild functions which perform linear algebra like finding inverse of a matrix, finding eigen values, eigen vectors, determinant, inverse etc..\n",
    "# Let's try them.. \n",
    "import numpy as np"
   ]
  },
  {
   "cell_type": "code",
   "execution_count": 17,
   "metadata": {},
   "outputs": [
    {
     "name": "stdout",
     "output_type": "stream",
     "text": [
      "-2.0\n"
     ]
    }
   ],
   "source": [
    "# lingib.det -> this function in numpy is used to find the determinant of a matix[NxN]\n",
    "arr = np.array([[1, 2], [3, 4]], float)\n",
    "# np.set_printoptions(legacy='1.13')\n",
    "print(np.linalg.det(arr))"
   ]
  }
 ],
 "metadata": {
  "kernelspec": {
   "display_name": "Python 3",
   "language": "python",
   "name": "python3"
  },
  "language_info": {
   "codemirror_mode": {
    "name": "ipython",
    "version": 3
   },
   "file_extension": ".py",
   "mimetype": "text/x-python",
   "name": "python",
   "nbconvert_exporter": "python",
   "pygments_lexer": "ipython3",
   "version": "3.10.9"
  },
  "orig_nbformat": 4
 },
 "nbformat": 4,
 "nbformat_minor": 2
}
